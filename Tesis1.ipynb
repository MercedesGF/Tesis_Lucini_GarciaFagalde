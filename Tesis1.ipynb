{
 "cells": [
  {
   "cell_type": "code",
   "execution_count": 1,
   "id": "717a1957",
   "metadata": {},
   "outputs": [
    {
     "name": "stdout",
     "output_type": "stream",
     "text": [
      "Requirement already satisfied: pandas in /Users/ma.mercedesgarciafagalde/opt/anaconda3/lib/python3.8/site-packages (1.2.4)\n",
      "Requirement already satisfied: python-dateutil>=2.7.3 in /Users/ma.mercedesgarciafagalde/opt/anaconda3/lib/python3.8/site-packages (from pandas) (2.8.1)\n",
      "Requirement already satisfied: pytz>=2017.3 in /Users/ma.mercedesgarciafagalde/opt/anaconda3/lib/python3.8/site-packages (from pandas) (2021.1)\n",
      "Requirement already satisfied: numpy>=1.16.5 in /Users/ma.mercedesgarciafagalde/opt/anaconda3/lib/python3.8/site-packages (from pandas) (1.20.1)\n",
      "Requirement already satisfied: six>=1.5 in /Users/ma.mercedesgarciafagalde/opt/anaconda3/lib/python3.8/site-packages (from python-dateutil>=2.7.3->pandas) (1.15.0)\n",
      "    YEAR  DEA_USD  DCP_%  DEA_%  DEALP_USD  GDP_cons% GDP_currPPP   GDP_Index  \\\n",
      "0   1960      NaN    NaN    NaN        NaN        NaN         NaN         NaN   \n",
      "1   1961      NaN    NaN    NaN        NaN        NaN         NaN         NaN   \n",
      "2   1962      NaN    NaN    NaN        NaN        NaN         NaN         NaN   \n",
      "3   1963      NaN    NaN    NaN        NaN        NaN         NaN         NaN   \n",
      "4   1964      NaN    NaN    NaN        NaN        NaN         NaN         NaN   \n",
      "..   ...      ...    ...    ...        ...        ...         ...         ...   \n",
      "64  2024      NaN    NaN    NaN        NaN     1799.0   1,201.305  15,454.331   \n",
      "65  2025      NaN    NaN    NaN        NaN     1751.0   1,248.895  18,883.170   \n",
      "66  2026      NaN    NaN    NaN        NaN     1836.0   1,298.178  22,087.720   \n",
      "67  2027      NaN    NaN    NaN        NaN        NaN         NaN         NaN   \n",
      "68  2028      NaN    NaN    NaN        NaN        NaN         NaN         NaN   \n",
      "\n",
      "   GDPP_consPPP GDPP_currPPP  ...  DC.DAC.SVNL.CD  DC.DAC.FRAL.CD  \\\n",
      "0           NaN          NaN  ...             NaN    3.200000e+06   \n",
      "1           NaN          NaN  ...             NaN             NaN   \n",
      "2           NaN          NaN  ...             NaN    6.000000e+05   \n",
      "3           NaN          NaN  ...             NaN   -1.100000e+06   \n",
      "4           NaN          NaN  ...             NaN    1.150000e+07   \n",
      "..          ...          ...  ...             ...             ...   \n",
      "64   21,632.311   25,434.644  ...             NaN             NaN   \n",
      "65   21,793.206   26,180.444  ...             NaN             NaN   \n",
      "66   21,973.574   26,944.124  ...             NaN             NaN   \n",
      "67          NaN          NaN  ...             NaN             NaN   \n",
      "68          NaN          NaN  ...             NaN             NaN   \n",
      "\n",
      "    CM.MKT.LCAP.GD.ZS  BX.GSR.INSF.ZS  BN.GSR.FCTY.CD  BM.GSR.FCTY.CD  \\\n",
      "0                 NaN             NaN             NaN             NaN   \n",
      "1                 NaN             NaN             NaN             NaN   \n",
      "2                 NaN             NaN             NaN             NaN   \n",
      "3                 NaN             NaN             NaN             NaN   \n",
      "4                 NaN             NaN             NaN             NaN   \n",
      "..                ...             ...             ...             ...   \n",
      "64                NaN             NaN             NaN             NaN   \n",
      "65                NaN             NaN             NaN             NaN   \n",
      "66                NaN             NaN             NaN             NaN   \n",
      "67                NaN             NaN             NaN             NaN   \n",
      "68                NaN             NaN             NaN             NaN   \n",
      "\n",
      "    BN.CAB.XOKA.CD.1  BN.CAB.XOKA.GD.ZS  FM.LBL.BMNY.IR.ZS.1   PA.NUS.FCRF  \n",
      "0                NaN                NaN                  NaN           NaN  \n",
      "1                NaN                NaN                  NaN           NaN  \n",
      "2                NaN                NaN            30.493919           NaN  \n",
      "3                NaN                NaN            10.847584  1.387167e-11  \n",
      "4                NaN                NaN            26.671761  1.403917e-11  \n",
      "..               ...                ...                  ...           ...  \n",
      "64               NaN                NaN                  NaN           NaN  \n",
      "65               NaN                NaN                  NaN           NaN  \n",
      "66               NaN                NaN                  NaN           NaN  \n",
      "67               NaN                NaN                  NaN           NaN  \n",
      "68               NaN                NaN                  NaN           NaN  \n",
      "\n",
      "[69 rows x 1089 columns]\n"
     ]
    }
   ],
   "source": [
    "import sys\n",
    "!{ sys . executable } -m pip install pandas\n",
    "import pandas as pd\n",
    "pd.read_excel  (\"/Users/ma.mercedesgarciafagalde/Desktop/Tesis/DataBase - FINAL - Tesis.xlsx\")\n",
    "df = pd . read_excel (\"/Users/ma.mercedesgarciafagalde/Desktop/Tesis/DataBase - FINAL - Tesis.xlsx\")\n",
    "print(df)"
   ]
  },
  {
   "cell_type": "code",
   "execution_count": null,
   "id": "ea91c430",
   "metadata": {},
   "outputs": [],
   "source": []
  },
  {
   "cell_type": "code",
   "execution_count": 2,
   "id": "6a825262",
   "metadata": {},
   "outputs": [],
   "source": [
    "from sklearn import datasets\n",
    "from sklearn.linear_model import LinearRegression\n",
    "import pandas as pd"
   ]
  },
  {
   "cell_type": "code",
   "execution_count": null,
   "id": "0ce08292",
   "metadata": {},
   "outputs": [],
   "source": []
  }
 ],
 "metadata": {
  "kernelspec": {
   "display_name": "Python 3",
   "language": "python",
   "name": "python3"
  },
  "language_info": {
   "codemirror_mode": {
    "name": "ipython",
    "version": 3
   },
   "file_extension": ".py",
   "mimetype": "text/x-python",
   "name": "python",
   "nbconvert_exporter": "python",
   "pygments_lexer": "ipython3",
   "version": "3.8.8"
  }
 },
 "nbformat": 4,
 "nbformat_minor": 5
}
